{
  "nbformat": 4,
  "nbformat_minor": 0,
  "metadata": {
    "colab": {
      "name": "books.ipynb",
      "provenance": [],
      "collapsed_sections": [],
      "mount_file_id": "18yIlskudwRouf9AjDkLzHrbNRDAUmLXY",
      "authorship_tag": "ABX9TyMChseBK/DkT5FumSoGjiH0",
      "include_colab_link": true
    },
    "kernelspec": {
      "name": "python3",
      "display_name": "Python 3"
    }
  },
  "cells": [
    {
      "cell_type": "markdown",
      "metadata": {
        "id": "view-in-github",
        "colab_type": "text"
      },
      "source": [
        "<a href=\"https://colab.research.google.com/github/danielicapui/machine_learning/blob/main/books.ipynb\" target=\"_parent\"><img src=\"https://colab.research.google.com/assets/colab-badge.svg\" alt=\"Open In Colab\"/></a>"
      ]
    },
    {
      "cell_type": "markdown",
      "metadata": {
        "id": "dzuqY9TqnZce"
      },
      "source": [
        "Importações e configurações"
      ]
    },
    {
      "cell_type": "code",
      "metadata": {
        "colab": {
          "base_uri": "https://localhost:8080/",
          "height": 249
        },
        "id": "yTo5ctepBnbr",
        "outputId": "aafbf64f-8806-4866-d1f2-04da6200b0c7"
      },
      "source": [
        "import pandas as pd\n",
        "import seaborn as sns\n",
        "import numpy as np\n",
        "import matplotlib.pyplot as plt\n",
        "import sklearn.metrics.pairwise as pw\n",
        "from numpy import dot\n",
        "from numpy.linalg import norm\n",
        "from scipy import sparse\n",
        "from pandas.api.types import CategoricalDtype\n",
        "import os\n",
        "#%matplotlib inline\n",
        "#pd.set_option(\"display.max_rows\", 5)\n",
        "#from google.colab import drive\n",
        "#drive.mount('/content/gdrive',force_remount=True)\n",
        "\n",
        "path=\"/content/gdrive/MyDrive/csv\"\n",
        "os.chdir(path)\n",
        "\n",
        "book = pd.read_csv(\"../csv/Books.csv\")\n"
      ],
      "execution_count": null,
      "outputs": [
        {
          "output_type": "error",
          "ename": "FileNotFoundError",
          "evalue": "ignored",
          "traceback": [
            "\u001b[0;31m---------------------------------------------------------------------------\u001b[0m",
            "\u001b[0;31mFileNotFoundError\u001b[0m                         Traceback (most recent call last)",
            "\u001b[0;32m<ipython-input-5-5e39efd857dd>\u001b[0m in \u001b[0;36m<module>\u001b[0;34m()\u001b[0m\n\u001b[1;32m     15\u001b[0m \u001b[0;34m\u001b[0m\u001b[0m\n\u001b[1;32m     16\u001b[0m \u001b[0mpath\u001b[0m\u001b[0;34m=\u001b[0m\u001b[0;34m\"/content/gdrive/MyDrive/csv\"\u001b[0m\u001b[0;34m\u001b[0m\u001b[0;34m\u001b[0m\u001b[0m\n\u001b[0;32m---> 17\u001b[0;31m \u001b[0mos\u001b[0m\u001b[0;34m.\u001b[0m\u001b[0mchdir\u001b[0m\u001b[0;34m(\u001b[0m\u001b[0mpath\u001b[0m\u001b[0;34m)\u001b[0m\u001b[0;34m\u001b[0m\u001b[0;34m\u001b[0m\u001b[0m\n\u001b[0m\u001b[1;32m     18\u001b[0m \u001b[0;34m\u001b[0m\u001b[0m\n\u001b[1;32m     19\u001b[0m \u001b[0mbook\u001b[0m \u001b[0;34m=\u001b[0m \u001b[0mpd\u001b[0m\u001b[0;34m.\u001b[0m\u001b[0mread_csv\u001b[0m\u001b[0;34m(\u001b[0m\u001b[0;34m\"../csv/Books.csv\"\u001b[0m\u001b[0;34m)\u001b[0m\u001b[0;34m\u001b[0m\u001b[0;34m\u001b[0m\u001b[0m\n",
            "\u001b[0;31mFileNotFoundError\u001b[0m: [Errno 2] No such file or directory: '/content/gdrive/MyDrive/csv'"
          ]
        }
      ]
    },
    {
      "cell_type": "code",
      "metadata": {
        "colab": {
          "base_uri": "https://localhost:8080/",
          "height": 249
        },
        "id": "nFAQlQ62GyXY",
        "outputId": "70bd0694-515f-4d1c-8bfd-586737a89a55"
      },
      "source": [
        "#Trocando nome das colunas #q1\n",
        "book.columns=[\"cod_item\",\"cod_user\",\"cod_opinion\",\"cod_time\"]\n",
        "book.columns\n",
        "#código do item, código do usuário, nota de avaliação e data no formato timestamp.\n",
        "\n"
      ],
      "execution_count": null,
      "outputs": [
        {
          "output_type": "error",
          "ename": "NameError",
          "evalue": "ignored",
          "traceback": [
            "\u001b[0;31m---------------------------------------------------------------------------\u001b[0m",
            "\u001b[0;31mNameError\u001b[0m                                 Traceback (most recent call last)",
            "\u001b[0;32m<ipython-input-4-c3a611a36285>\u001b[0m in \u001b[0;36m<module>\u001b[0;34m()\u001b[0m\n\u001b[1;32m      1\u001b[0m \u001b[0;31m#Trocando nome das colunas #q1\u001b[0m\u001b[0;34m\u001b[0m\u001b[0;34m\u001b[0m\u001b[0;34m\u001b[0m\u001b[0m\n\u001b[0;32m----> 2\u001b[0;31m \u001b[0mbook\u001b[0m\u001b[0;34m.\u001b[0m\u001b[0mcolumns\u001b[0m\u001b[0;34m=\u001b[0m\u001b[0;34m[\u001b[0m\u001b[0;34m\"cod_item\"\u001b[0m\u001b[0;34m,\u001b[0m\u001b[0;34m\"cod_user\"\u001b[0m\u001b[0;34m,\u001b[0m\u001b[0;34m\"cod_opinion\"\u001b[0m\u001b[0;34m,\u001b[0m\u001b[0;34m\"cod_time\"\u001b[0m\u001b[0;34m]\u001b[0m\u001b[0;34m\u001b[0m\u001b[0;34m\u001b[0m\u001b[0m\n\u001b[0m\u001b[1;32m      3\u001b[0m \u001b[0mbook\u001b[0m\u001b[0;34m.\u001b[0m\u001b[0mcolumns\u001b[0m\u001b[0;34m\u001b[0m\u001b[0;34m\u001b[0m\u001b[0m\n\u001b[1;32m      4\u001b[0m \u001b[0;31m#código do item, código do usuário, nota de avaliação e data no formato timestamp.\u001b[0m\u001b[0;34m\u001b[0m\u001b[0;34m\u001b[0m\u001b[0;34m\u001b[0m\u001b[0m\n\u001b[1;32m      5\u001b[0m \u001b[0;34m\u001b[0m\u001b[0m\n",
            "\u001b[0;31mNameError\u001b[0m: name 'book' is not defined"
          ]
        }
      ]
    },
    {
      "cell_type": "code",
      "metadata": {
        "colab": {
          "base_uri": "https://localhost:8080/"
        },
        "id": "MNvUS06iS-Nf",
        "outputId": "42b43052-8293-4f8a-9d22-338bd956955e"
      },
      "source": [
        "book.cod_user.describe()"
      ],
      "execution_count": null,
      "outputs": [
        {
          "output_type": "execute_result",
          "data": {
            "text/plain": [
              "count           51311620\n",
              "unique          15362619\n",
              "top       A2OJW07GQRNJUT\n",
              "freq                9684\n",
              "Name: cod_user, dtype: object"
            ]
          },
          "metadata": {
            "tags": []
          },
          "execution_count": 11
        }
      ]
    },
    {
      "cell_type": "markdown",
      "metadata": {
        "id": "U1bTwbP0niWA"
      },
      "source": [
        "Primeiras questões"
      ]
    },
    {
      "cell_type": "code",
      "metadata": {
        "id": "aTSR9JFs_wTF"
      },
      "source": [
        "#Quantidade linhas no arquivo #q2\n",
        "linhas=book.count()\n",
        "#ou\n",
        "linhas1=len(book.cod_item)\n",
        "print(\"Número de linhas: {}\\nOu linhas:{}\".format(linhas,linhas1))\n",
        "book.cod_time[51311619]"
      ],
      "execution_count": null,
      "outputs": []
    },
    {
      "cell_type": "code",
      "metadata": {
        "id": "1l9EdgmBVHDh"
      },
      "source": [
        "#Quantidade de linhas null ou vazias #q3\n",
        "valores_vazio=book.isnull().sum()\n",
        "a=valores_vazio.cod_opinion\n",
        "b=valores_vazio.cod_time\n",
        "c=valores_vazio.cod_item\n",
        "d=valores_vazio.cod_user\n",
        "if(a==b and c==d and a==c):\n",
        "  print(\"Não há valores nulos\")\n",
        "else:\n",
        "  print(\"Limpando os valores nulos.\")\n",
        "  livro=book.dropna(inplace=True)"
      ],
      "execution_count": null,
      "outputs": []
    },
    {
      "cell_type": "code",
      "metadata": {
        "id": "2qJtazfdCXUh"
      },
      "source": [
        "print(\"Primeiros 5 registros.\") #q4\n",
        "book.head(5)"
      ],
      "execution_count": null,
      "outputs": []
    },
    {
      "cell_type": "code",
      "metadata": {
        "id": "NyWGkRVeHVaR"
      },
      "source": [
        "#q5\n",
        "print(\"últimos 5 registros.\")\n",
        "book.tail(5)"
      ],
      "execution_count": null,
      "outputs": []
    },
    {
      "cell_type": "markdown",
      "metadata": {
        "id": "yh-9sYybnqB4"
      },
      "source": [
        "Questões dos usuários:\n"
      ]
    },
    {
      "cell_type": "code",
      "metadata": {
        "colab": {
          "base_uri": "https://localhost:8080/"
        },
        "id": "H3iEBb0hm4g9",
        "outputId": "3d767d47-b937-4fd3-db84-76464318126c"
      },
      "source": [
        "#Números de usuarios distintos:User[0] \n",
        "result=book.cod_user.nunique()\n",
        "print(\"Usuários distintos:\")\n",
        "result"
      ],
      "execution_count": null,
      "outputs": [
        {
          "output_type": "stream",
          "text": [
            "Usuários distintos:\n"
          ],
          "name": "stdout"
        },
        {
          "output_type": "execute_result",
          "data": {
            "text/plain": [
              "15362619"
            ]
          },
          "metadata": {
            "tags": []
          },
          "execution_count": 5
        }
      ]
    },
    {
      "cell_type": "code",
      "metadata": {
        "id": "BO64jiC4hzTz",
        "colab": {
          "base_uri": "https://localhost:8080/"
        },
        "outputId": "1209b1d0-6eaa-4bfd-e5c5-d656cd99c631"
      },
      "source": [
        "##Outro meio de achar o usuário. User[1]\n",
        "result = book.groupby(\"cod_user\").cod_opinion.agg([\"sum\"]).sort_values(by=\"sum\",ascending=False)\n",
        "print(result) \n",
        "print(\"Número maior de avaliações: {}\".format(result.iloc[0]))\n",
        "print(\"Usuario: {}\".format(result.index[0]))"
      ],
      "execution_count": null,
      "outputs": [
        {
          "output_type": "stream",
          "text": [
            "                    sum\n",
            "cod_user               \n",
            "A2OJW07GQRNJUT  47733.0\n",
            "A2F6N60Z96CAJI  41581.0\n",
            "A328S9RN3U5M68  33948.0\n",
            "AHUT55E980RDR   23919.0\n",
            "A2TX179XAT5GRP  20229.0\n",
            "...                 ...\n",
            "A1GOFLG78QX6XS      1.0\n",
            "A3JEGQYN2N9X7P      1.0\n",
            "A2T7RFRG0T9P1A      1.0\n",
            "A40HXWEOPNVK7       1.0\n",
            "A3R0RH3VI1XPPF      0.0\n",
            "\n",
            "[15362619 rows x 1 columns]\n",
            "Número maior de avaliações: sum    47733.0\n",
            "Name: A2OJW07GQRNJUT, dtype: float64\n",
            "Usuario: A2OJW07GQRNJUT\n"
          ],
          "name": "stdout"
        }
      ]
    },
    {
      "cell_type": "code",
      "metadata": {
        "colab": {
          "base_uri": "https://localhost:8080/"
        },
        "id": "VRHYNK2PB-CN",
        "outputId": "9cefa1cc-4f8c-4bf5-a1d8-53d69e172ad9"
      },
      "source": [
        "#Maneira correta\n",
        "avaliacao_media = book.cod_opinion.mean()\n",
        "avaliacao_media"
      ],
      "execution_count": null,
      "outputs": [
        {
          "output_type": "execute_result",
          "data": {
            "text/plain": [
              "4.39324737749461"
            ]
          },
          "metadata": {
            "tags": []
          },
          "execution_count": 4
        }
      ]
    },
    {
      "cell_type": "code",
      "metadata": {
        "id": "3S8TpTOTmlI3"
      },
      "source": [
        "#Número de avaliações por pessoas, e usuario com mais.User[2]\n",
        "ma = pd.DataFrame(book, columns=[\"cod_user\",\"cod_opinion\"]) \n",
        "result = ma.groupby('cod_user')['cod_opinion'].nunique() \n",
        " \n",
        "result=result.sort_index()\n",
        "print(result) \n",
        "print(\"Máximo: {}\".format(result.iloc[0]))\n",
        "print(\"Usuario: {}\".format(result.index[0]))\n",
        "print(50*\"-\")\n",
        "#soma\n",
        "soma=ma.groupby('cod_user')['cod_opinion'].nunique()\n",
        "soma=soma.sort_index()\n",
        "print(soma)"
      ],
      "execution_count": null,
      "outputs": []
    },
    {
      "cell_type": "code",
      "metadata": {
        "colab": {
          "base_uri": "https://localhost:8080/",
          "height": 35
        },
        "id": "aAloHzWwCzj_",
        "outputId": "824e27ab-4be2-4539-c43a-a707e29d7b56"
      },
      "source": [
        "#Usuario que mais avaliou\n",
        "book_by_user = book.groupby('cod_user')\n",
        "user = book_by_user.cod_item.count().idxmax()\n",
        "user"
      ],
      "execution_count": null,
      "outputs": [
        {
          "output_type": "execute_result",
          "data": {
            "application/vnd.google.colaboratory.intrinsic+json": {
              "type": "string"
            },
            "text/plain": [
              "'A2OJW07GQRNJUT'"
            ]
          },
          "metadata": {
            "tags": []
          },
          "execution_count": 5
        }
      ]
    },
    {
      "cell_type": "code",
      "metadata": {
        "colab": {
          "base_uri": "https://localhost:8080/",
          "height": 198
        },
        "id": "IpbNwnzpDP0D",
        "outputId": "8e99da59-4612-4350-80e0-677cff3df66c"
      },
      "source": [
        "#Maneira correta de mais avaliações\n",
        "numeros_max = book_by_user.cod_item.count().max()\n",
        "numeros_max"
      ],
      "execution_count": null,
      "outputs": [
        {
          "output_type": "error",
          "ename": "NameError",
          "evalue": "ignored",
          "traceback": [
            "\u001b[0;31m---------------------------------------------------------------------------\u001b[0m",
            "\u001b[0;31mNameError\u001b[0m                                 Traceback (most recent call last)",
            "\u001b[0;32m<ipython-input-1-f3183dbd1015>\u001b[0m in \u001b[0;36m<module>\u001b[0;34m()\u001b[0m\n\u001b[1;32m      1\u001b[0m \u001b[0;31m#Maneira correta de mais avaliações\u001b[0m\u001b[0;34m\u001b[0m\u001b[0;34m\u001b[0m\u001b[0;34m\u001b[0m\u001b[0m\n\u001b[0;32m----> 2\u001b[0;31m \u001b[0mnumeros_max\u001b[0m \u001b[0;34m=\u001b[0m \u001b[0mbook_by_user\u001b[0m\u001b[0;34m.\u001b[0m\u001b[0mitem\u001b[0m\u001b[0;34m.\u001b[0m\u001b[0mcount\u001b[0m\u001b[0;34m(\u001b[0m\u001b[0;34m)\u001b[0m\u001b[0;34m.\u001b[0m\u001b[0mmax\u001b[0m\u001b[0;34m(\u001b[0m\u001b[0;34m)\u001b[0m\u001b[0;34m\u001b[0m\u001b[0;34m\u001b[0m\u001b[0m\n\u001b[0m\u001b[1;32m      3\u001b[0m \u001b[0mnumeros_max\u001b[0m\u001b[0;34m\u001b[0m\u001b[0;34m\u001b[0m\u001b[0m\n",
            "\u001b[0;31mNameError\u001b[0m: name 'book_by_user' is not defined"
          ]
        }
      ]
    },
    {
      "cell_type": "code",
      "metadata": {
        "colab": {
          "base_uri": "https://localhost:8080/"
        },
        "id": "JPgl1ksiOh4j",
        "outputId": "0f53fc38-b2b3-44fc-c868-d4f830c127cd"
      },
      "source": [
        "#User[0]\n",
        "#usuarios distintos\n",
        "usu=book.cod_user.nunique()\n",
        "usu\n",
        "#print(\"Desconsiderando vazios.\")\n",
        "#usi=book.cod_user.np.unique()"
      ],
      "execution_count": null,
      "outputs": [
        {
          "output_type": "execute_result",
          "data": {
            "text/plain": [
              "15362619"
            ]
          },
          "metadata": {
            "tags": []
          },
          "execution_count": 56
        }
      ]
    },
    {
      "cell_type": "markdown",
      "metadata": {
        "id": "-Efo5yp4nyuS"
      },
      "source": [
        "Questões dos produtos:"
      ]
    },
    {
      "cell_type": "code",
      "metadata": {
        "colab": {
          "base_uri": "https://localhost:8080/"
        },
        "id": "gel7BQDwjlJf",
        "outputId": "98a4b44e-a446-48e3-b33b-1a0a69157e69"
      },
      "source": [
        "#produtos distintos #produto[0]\n",
        "produto=book.cod_item.nunique()\n",
        "produto"
      ],
      "execution_count": null,
      "outputs": [
        {
          "output_type": "execute_result",
          "data": {
            "text/plain": [
              "2930451"
            ]
          },
          "metadata": {
            "tags": []
          },
          "execution_count": 62
        }
      ]
    },
    {
      "cell_type": "code",
      "metadata": {
        "id": "Pqfvsd_2dkTZ"
      },
      "source": [
        "#Produtos organizados e maior avaliado, #produto[1]\n",
        "result = book.groupby(\"cod_item\").cod_opinion.agg([\"nunique\"]).sort_values(by=\"nunique\",ascending=False) \n",
        "\n",
        "print(result) \n",
        "print(\"Maior número de avaliações: {}\".format(result.values[0]))\n",
        "print(\"Produto: {}\".format(result.index[0]))"
      ],
      "execution_count": null,
      "outputs": []
    },
    {
      "cell_type": "code",
      "metadata": {
        "id": "TVWQkrHQeZcd"
      },
      "source": [
        "#Média de avaliação média em cada produtos #produto[2]\n",
        "avaliacao_media=pd.DataFrame(book,columns=[\"cod_user\",\"cod_opinion\"])\n",
        "result=avaliacao_media.groupby(\"cod_user\")[\"cod_opinion\"].mean()"
      ],
      "execution_count": null,
      "outputs": []
    },
    {
      "cell_type": "code",
      "metadata": {
        "colab": {
          "base_uri": "https://localhost:8080/"
        },
        "id": "2Qn3PHz0jb5N",
        "outputId": "f452cb78-e219-418e-8280-b642931b27ee"
      },
      "source": [
        "#outro meio de avaliação por usuario, média ,mais organizada #produto[2]\n",
        "result = book.groupby(\"cod_item\").cod_opinion.agg([\"mean\"]).sort_values(by=\"mean\",ascending=False) \n",
        "print(result) \n"
      ],
      "execution_count": null,
      "outputs": [
        {
          "output_type": "stream",
          "text": [
            "            mean\n",
            "cod_item        \n",
            "1443829269   5.0\n",
            "1482095564   5.0\n",
            "1482209217   5.0\n",
            "1482208865   5.0\n",
            "1482208059   5.0\n",
            "...          ...\n",
            "1630223859   1.0\n",
            "B0006F077A   1.0\n",
            "B00ATBODZ8   1.0\n",
            "1630224243   1.0\n",
            "1418531030   1.0\n",
            "\n",
            "[2930451 rows x 1 columns]\n"
          ],
          "name": "stdout"
        }
      ]
    },
    {
      "cell_type": "code",
      "metadata": {
        "id": "qisspvysjt20"
      },
      "source": [
        "#numéros de opiniões que cada usuario fez nos produtos #produto[1]\n",
        "pa = pd.DataFrame(book, columns=[\"cod_item\",\"cod_opinion\"])\n",
        "result = pa.groupby('cod_item')['cod_opinion'].nunique()\n",
        "result=result.sort_values(by='max',ascending=False)\n",
        "print(result)\n",
        "print(\"produto que recebeu mais avaliação:\")\n",
        "print(result.head(0))"
      ],
      "execution_count": null,
      "outputs": []
    },
    {
      "cell_type": "code",
      "metadata": {
        "id": "dz6Jjzsqk3An"
      },
      "source": [
        "#Esse está mais orgazinado\n",
        "result = book.groupby(\"cod_item\").cod_opinion.agg([\"nunique\"]).sort_values(by=\"nunique\",ascending=False) \n",
        "\n",
        "print(result) \n",
        "print(\"Maior número de avaliações: {}\".format(result.iloc[0]))\n",
        "print(\"Produto: {}\".format(result.index[0]))\n"
      ],
      "execution_count": null,
      "outputs": []
    },
    {
      "cell_type": "markdown",
      "metadata": {
        "id": "IHyAEEOJwEU0"
      },
      "source": [
        "Questões de gráficos:\n"
      ]
    },
    {
      "cell_type": "code",
      "metadata": {
        "colab": {
          "base_uri": "https://localhost:8080/",
          "height": 266
        },
        "id": "2yIDAlTjxf7w",
        "outputId": "c1233678-4fc2-4ffb-8c06-a791c8859c76"
      },
      "source": [
        "#boxplot questão.\n",
        "data=pd.DataFrame(book,columns=[\"cod_opinion\"])\n",
        "boxplot = data.boxplot(column=\"cod_opinion\"\n",
        "print(\"O gráfico diz que as variações médias dos livros estão entre 5,4 e 3  em outras palavras a maioria dos livros foi avaliado como bom  e está distríbuido no intervalo 3-5, entretanto, não que dizer que só existi valores bons, segundo o gráfico existi populações de valores 'ruins'(abaixo de 3) \")"
      ],
      "execution_count": null,
      "outputs": [
        {
          "output_type": "display_data",
          "data": {
            "image/png": "[encoded data removed]",
            "text/plain": [
              "<Figure size 432x288 with 1 Axes>"
            ]
          },
          "metadata": {
            "tags": [],
            "needs_background": "light"
          }
        }
      ]
    },
    {
      "cell_type": "code",
      "metadata": {
        "colab": {
          "base_uri": "https://localhost:8080/",
          "height": 252
        },
        "id": "dAe7bT5jEjVc",
        "outputId": "53c2a2d5-6111-477e-a69a-716888f702d5"
      },
      "source": [
        "#Usando sns\n",
        "import seaborn as sns\n",
        "sns.boxplot(data=book, y='cod_opinion');"
      ],
      "execution_count": null,
      "outputs": [
        {
          "output_type": "display_data",
          "data": {
            "image/png": "[encoded data removed]",
            "text/plain": [
              "<Figure size 432x288 with 1 Axes>"
            ]
          },
          "metadata": {
            "tags": [],
            "needs_background": "light"
          }
        }
      ]
    },
    {
      "cell_type": "code",
      "metadata": {
        "colab": {
          "base_uri": "https://localhost:8080/",
          "height": 578
        },
        "id": "YufFgarQvbBM",
        "outputId": "3fbe6870-51a0-4f29-d693-8916fe34d51d"
      },
      "source": [
        "#histograma questão.\n",
        "his=book.hist(column='cod_time')\n",
        "#teste\n",
        "book.groupby('cod_time').count().plot()\n",
        "print(\"Segundo o histograma as distribuições do tempo estão concentradas no intervalo 1.3 e 1.5  com valores superior a 1.Isso implica que o tempo decorrido em cada avaliação foi em média 1.4. Poucos usuários fizeram em menos de um timestamps\")\n"
      ],
      "execution_count": null,
      "outputs": [
        {
          "output_type": "execute_result",
          "data": {
            "text/plain": [
              "<matplotlib.axes._subplots.AxesSubplot at 0x7f6404e13a90>"
            ]
          },
          "metadata": {
            "tags": []
          },
          "execution_count": 29
        },
        {
          "output_type": "display_data",
          "data": {
            "image/png": "[encoded data removed]",
            "text/plain": [
              "<Figure size 432x288 with 1 Axes>"
            ]
          },
          "metadata": {
            "tags": [],
            "needs_background": "light"
          }
        },
        {
          "output_type": "display_data",
          "data": {
            "image/png": "[encoded data removed]",
            "text/plain": [
              "<Figure size 432x288 with 1 Axes>"
            ]
          },
          "metadata": {
            "tags": [],
            "needs_background": "light"
          }
        }
      ]
    },
    {
      "cell_type": "code",
      "metadata": {
        "colab": {
          "base_uri": "https://localhost:8080/",
          "height": 283
        },
        "id": "luF_xVV_FOch",
        "outputId": "c17ab0a1-81eb-4fb7-d34d-81626b886b30"
      },
      "source": [
        "#Maneira correta do histograma\n",
        "sns.histplot(data = book, x='cod_time');"
      ],
      "execution_count": null,
      "outputs": [
        {
          "output_type": "display_data",
          "data": {
            "image/png": "[encoded data removed]",
            "text/plain": [
              "<Figure size 432x288 with 1 Axes>"
            ]
          },
          "metadata": {
            "tags": [],
            "needs_background": "light"
          }
        }
      ]
    },
    {
      "cell_type": "code",
      "metadata": {
        "id": "kfqULgNOcEWb"
      },
      "source": [
        "ten=book.groupby(\"cod_item\").filter(lambda x: x[\"cod_opinion\"].count()>=4)\n",
        "#media\n",
        "ten\n",
        "#opiniao1= pd.DataFrame(book.groupby('cod_item').cod_opinion.mean())\n",
        "# Avaliações por produto\n",
        "opiniao2 = book.groupby('cod_item').cod_opinion.count()\n",
        "# Visualização dos 5 produtos mais bem avaliados (número de avaliações)\n",
        "#As melhores avaliações\n",
        "print(\"As melhores opiniões\")\n",
        "opiniao2.sort_values(ascending = False)\n",
        "#As piores avaliações\n",
        "print(\"As piores opiniões\")\n",
        "#opiniao2.sort_values(ascending=False).tail(10)"
      ],
      "execution_count": null,
      "outputs": []
    },
    {
      "cell_type": "code",
      "metadata": {
        "id": "q2gMzrW22VNu"
      },
      "source": [
        "from random import choice\n",
        "#10 minutos,muito tempo tentar* ,diminuir\n",
        "data=book.copy()\n",
        "data[\"promocao\"]=0\n",
        "size=len(data.promocao)\n",
        "numeros=int(size/10)\n",
        "inu=[0,1]\n",
        "for i in range(size):\n",
        "  if numeros!=0:\n",
        "    data.promocao[i]=choice(inu)\n",
        "    numeros=numeros-1\n",
        "  elif numeros<=0:\n",
        "    break\n",
        "data"
      ],
      "execution_count": null,
      "outputs": []
    },
    {
      "cell_type": "code",
      "metadata": {
        "id": "sJmZWsTN97Yd"
      },
      "source": [
        "#3 segundos. Os 10 primeiros produtos em promoção\n",
        "import random\n",
        "data=book\n",
        "book[\"cod_promocao\"] =np.random.choice([0,1], len(book), p=[0.9,0.1])\n",
        "data = book[book['cod_promocao']==1].sample(n=10).index.to_list()\n",
        "data"
      ],
      "execution_count": null,
      "outputs": []
    },
    {
      "cell_type": "code",
      "metadata": {
        "id": "6zckugC2SidJ"
      },
      "source": [
        "livro=data.copy()\n",
        "livro[\"cod_relevancia\"]=livro.cod_item.mean()* cod_opinon.count()*(1+0.5*livro.cod_promocao)"
      ],
      "execution_count": null,
      "outputs": []
    },
    {
      "cell_type": "code",
      "metadata": {
        "colab": {
          "base_uri": "https://localhost:8080/",
          "height": 562
        },
        "id": "byalIBGqnHOc",
        "outputId": "2edfa522-02c7-44f2-8e25-f4eacc5b748b"
      },
      "source": [
        "#Calculando a relevância, maneira correta\n",
        "Am = book_by_item_resumo['avaliacao']\n",
        "Na = book_by_item_resumo['reviews']\n",
        "Pr = book_by_item_resumo['cod_promocao']\n",
        "book_by_item_resumo['relevancia'] = (Am*Na)*(1+0.5*Pr)\n",
        "book_by_item_resumo"
      ],
      "execution_count": null,
      "outputs": [
        {
          "output_type": "error",
          "ename": "KeyError",
          "evalue": "ignored",
          "traceback": [
            "\u001b[0;31m---------------------------------------------------------------------------\u001b[0m",
            "\u001b[0;31mKeyError\u001b[0m                                  Traceback (most recent call last)",
            "\u001b[0;32m/usr/local/lib/python3.7/dist-packages/pandas/core/indexes/base.py\u001b[0m in \u001b[0;36mget_loc\u001b[0;34m(self, key, method, tolerance)\u001b[0m\n\u001b[1;32m   2897\u001b[0m             \u001b[0;32mtry\u001b[0m\u001b[0;34m:\u001b[0m\u001b[0;34m\u001b[0m\u001b[0;34m\u001b[0m\u001b[0m\n\u001b[0;32m-> 2898\u001b[0;31m                 \u001b[0;32mreturn\u001b[0m \u001b[0mself\u001b[0m\u001b[0;34m.\u001b[0m\u001b[0m_engine\u001b[0m\u001b[0;34m.\u001b[0m\u001b[0mget_loc\u001b[0m\u001b[0;34m(\u001b[0m\u001b[0mcasted_key\u001b[0m\u001b[0;34m)\u001b[0m\u001b[0;34m\u001b[0m\u001b[0;34m\u001b[0m\u001b[0m\n\u001b[0m\u001b[1;32m   2899\u001b[0m             \u001b[0;32mexcept\u001b[0m \u001b[0mKeyError\u001b[0m \u001b[0;32mas\u001b[0m \u001b[0merr\u001b[0m\u001b[0;34m:\u001b[0m\u001b[0;34m\u001b[0m\u001b[0;34m\u001b[0m\u001b[0m\n",
            "\u001b[0;32mpandas/_libs/index.pyx\u001b[0m in \u001b[0;36mpandas._libs.index.IndexEngine.get_loc\u001b[0;34m()\u001b[0m\n",
            "\u001b[0;32mpandas/_libs/index.pyx\u001b[0m in \u001b[0;36mpandas._libs.index.IndexEngine.get_loc\u001b[0;34m()\u001b[0m\n",
            "\u001b[0;32mpandas/_libs/hashtable_class_helper.pxi\u001b[0m in \u001b[0;36mpandas._libs.hashtable.PyObjectHashTable.get_item\u001b[0;34m()\u001b[0m\n",
            "\u001b[0;32mpandas/_libs/hashtable_class_helper.pxi\u001b[0m in \u001b[0;36mpandas._libs.hashtable.PyObjectHashTable.get_item\u001b[0;34m()\u001b[0m\n",
            "\u001b[0;31mKeyError\u001b[0m: 'cod_promocao'",
            "\nThe above exception was the direct cause of the following exception:\n",
            "\u001b[0;31mKeyError\u001b[0m                                  Traceback (most recent call last)",
            "\u001b[0;32m<ipython-input-13-4acd2f0efa46>\u001b[0m in \u001b[0;36m<module>\u001b[0;34m()\u001b[0m\n\u001b[1;32m      2\u001b[0m \u001b[0mAm\u001b[0m \u001b[0;34m=\u001b[0m \u001b[0mbook_by_item_resumo\u001b[0m\u001b[0;34m[\u001b[0m\u001b[0;34m'avaliacao'\u001b[0m\u001b[0;34m]\u001b[0m\u001b[0;34m\u001b[0m\u001b[0;34m\u001b[0m\u001b[0m\n\u001b[1;32m      3\u001b[0m \u001b[0mNa\u001b[0m \u001b[0;34m=\u001b[0m \u001b[0mbook_by_item_resumo\u001b[0m\u001b[0;34m[\u001b[0m\u001b[0;34m'reviews'\u001b[0m\u001b[0;34m]\u001b[0m\u001b[0;34m\u001b[0m\u001b[0;34m\u001b[0m\u001b[0m\n\u001b[0;32m----> 4\u001b[0;31m \u001b[0mPr\u001b[0m \u001b[0;34m=\u001b[0m \u001b[0mbook_by_item_resumo\u001b[0m\u001b[0;34m[\u001b[0m\u001b[0;34m'cod_promocao'\u001b[0m\u001b[0;34m]\u001b[0m\u001b[0;34m\u001b[0m\u001b[0;34m\u001b[0m\u001b[0m\n\u001b[0m\u001b[1;32m      5\u001b[0m \u001b[0mbook_by_item_resumo\u001b[0m\u001b[0;34m[\u001b[0m\u001b[0;34m'relevancia'\u001b[0m\u001b[0;34m]\u001b[0m \u001b[0;34m=\u001b[0m \u001b[0;34m(\u001b[0m\u001b[0mAm\u001b[0m\u001b[0;34m*\u001b[0m\u001b[0mNa\u001b[0m\u001b[0;34m)\u001b[0m\u001b[0;34m*\u001b[0m\u001b[0;34m(\u001b[0m\u001b[0;36m1\u001b[0m\u001b[0;34m+\u001b[0m\u001b[0;36m0.5\u001b[0m\u001b[0;34m*\u001b[0m\u001b[0mPr\u001b[0m\u001b[0;34m)\u001b[0m\u001b[0;34m\u001b[0m\u001b[0;34m\u001b[0m\u001b[0m\n\u001b[1;32m      6\u001b[0m \u001b[0mbook_by_item_resumo\u001b[0m\u001b[0;34m\u001b[0m\u001b[0;34m\u001b[0m\u001b[0m\n",
            "\u001b[0;32m/usr/local/lib/python3.7/dist-packages/pandas/core/frame.py\u001b[0m in \u001b[0;36m__getitem__\u001b[0;34m(self, key)\u001b[0m\n\u001b[1;32m   2904\u001b[0m             \u001b[0;32mif\u001b[0m \u001b[0mself\u001b[0m\u001b[0;34m.\u001b[0m\u001b[0mcolumns\u001b[0m\u001b[0;34m.\u001b[0m\u001b[0mnlevels\u001b[0m \u001b[0;34m>\u001b[0m \u001b[0;36m1\u001b[0m\u001b[0;34m:\u001b[0m\u001b[0;34m\u001b[0m\u001b[0;34m\u001b[0m\u001b[0m\n\u001b[1;32m   2905\u001b[0m                 \u001b[0;32mreturn\u001b[0m \u001b[0mself\u001b[0m\u001b[0;34m.\u001b[0m\u001b[0m_getitem_multilevel\u001b[0m\u001b[0;34m(\u001b[0m\u001b[0mkey\u001b[0m\u001b[0;34m)\u001b[0m\u001b[0;34m\u001b[0m\u001b[0;34m\u001b[0m\u001b[0m\n\u001b[0;32m-> 2906\u001b[0;31m             \u001b[0mindexer\u001b[0m \u001b[0;34m=\u001b[0m \u001b[0mself\u001b[0m\u001b[0;34m.\u001b[0m\u001b[0mcolumns\u001b[0m\u001b[0;34m.\u001b[0m\u001b[0mget_loc\u001b[0m\u001b[0;34m(\u001b[0m\u001b[0mkey\u001b[0m\u001b[0;34m)\u001b[0m\u001b[0;34m\u001b[0m\u001b[0;34m\u001b[0m\u001b[0m\n\u001b[0m\u001b[1;32m   2907\u001b[0m             \u001b[0;32mif\u001b[0m \u001b[0mis_integer\u001b[0m\u001b[0;34m(\u001b[0m\u001b[0mindexer\u001b[0m\u001b[0;34m)\u001b[0m\u001b[0;34m:\u001b[0m\u001b[0;34m\u001b[0m\u001b[0;34m\u001b[0m\u001b[0m\n\u001b[1;32m   2908\u001b[0m                 \u001b[0mindexer\u001b[0m \u001b[0;34m=\u001b[0m \u001b[0;34m[\u001b[0m\u001b[0mindexer\u001b[0m\u001b[0;34m]\u001b[0m\u001b[0;34m\u001b[0m\u001b[0;34m\u001b[0m\u001b[0m\n",
            "\u001b[0;32m/usr/local/lib/python3.7/dist-packages/pandas/core/indexes/base.py\u001b[0m in \u001b[0;36mget_loc\u001b[0;34m(self, key, method, tolerance)\u001b[0m\n\u001b[1;32m   2898\u001b[0m                 \u001b[0;32mreturn\u001b[0m \u001b[0mself\u001b[0m\u001b[0;34m.\u001b[0m\u001b[0m_engine\u001b[0m\u001b[0;34m.\u001b[0m\u001b[0mget_loc\u001b[0m\u001b[0;34m(\u001b[0m\u001b[0mcasted_key\u001b[0m\u001b[0;34m)\u001b[0m\u001b[0;34m\u001b[0m\u001b[0;34m\u001b[0m\u001b[0m\n\u001b[1;32m   2899\u001b[0m             \u001b[0;32mexcept\u001b[0m \u001b[0mKeyError\u001b[0m \u001b[0;32mas\u001b[0m \u001b[0merr\u001b[0m\u001b[0;34m:\u001b[0m\u001b[0;34m\u001b[0m\u001b[0;34m\u001b[0m\u001b[0m\n\u001b[0;32m-> 2900\u001b[0;31m                 \u001b[0;32mraise\u001b[0m \u001b[0mKeyError\u001b[0m\u001b[0;34m(\u001b[0m\u001b[0mkey\u001b[0m\u001b[0;34m)\u001b[0m \u001b[0;32mfrom\u001b[0m \u001b[0merr\u001b[0m\u001b[0;34m\u001b[0m\u001b[0;34m\u001b[0m\u001b[0m\n\u001b[0m\u001b[1;32m   2901\u001b[0m \u001b[0;34m\u001b[0m\u001b[0m\n\u001b[1;32m   2902\u001b[0m         \u001b[0;32mif\u001b[0m \u001b[0mtolerance\u001b[0m \u001b[0;32mis\u001b[0m \u001b[0;32mnot\u001b[0m \u001b[0;32mNone\u001b[0m\u001b[0;34m:\u001b[0m\u001b[0;34m\u001b[0m\u001b[0;34m\u001b[0m\u001b[0m\n",
            "\u001b[0;31mKeyError\u001b[0m: 'cod_promocao'"
          ]
        }
      ]
    },
    {
      "cell_type": "code",
      "metadata": {
        "id": "gOq_8cjNJYB3"
      },
      "source": [
        "#Relevancia\n",
        "lista3 = book_by_item_resumo.sort_values('relevancia', ascending=False).index[0:10].to_list()\n",
        "lista3"
      ],
      "execution_count": null,
      "outputs": []
    },
    {
      "cell_type": "code",
      "metadata": {
        "id": "xoqcYL8lICuC"
      },
      "source": [
        "#maneira correta\n",
        "book_by_item = book.groupby('cod_item')\n",
        "avaliacao_media_produto = book_by_item.cod_opinion.mean()\n",
        "contagem_produtos = book_by_item.cod_item.count()\n",
        "book_by_item_resumo = pd.DataFrame({'avaliacao': avaliacao_media_produto, 'reviews':contagem_produtos})"
      ],
      "execution_count": null,
      "outputs": []
    }
  ]
}